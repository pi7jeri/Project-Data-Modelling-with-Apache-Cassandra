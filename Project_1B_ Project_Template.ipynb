{
 "cells": [
  {
   "cell_type": "markdown",
   "metadata": {},
   "source": [
    "# Part I. ETL Pipeline for Pre-Processing the Files"
   ]
  },
  {
   "cell_type": "code",
   "execution_count": 115,
   "metadata": {},
   "outputs": [],
   "source": [
    "# Import Python packages \n",
    "import pandas as pd\n",
    "import cassandra\n",
    "import re\n",
    "import os\n",
    "import glob\n",
    "import numpy as np\n",
    "import json\n",
    "import csv\n",
    "from tabulate import tabulate\n",
    "\n"
   ]
  },
  {
   "cell_type": "code",
   "execution_count": 116,
   "metadata": {},
   "outputs": [
    {
     "name": "stdout",
     "output_type": "stream",
     "text": [
      "/workspace/home\n"
     ]
    }
   ],
   "source": [
    "# Creating list of filepaths to process original event csv data files\n",
    "\n",
    "# checking your current working directory\n",
    "print(os.getcwd())\n",
    "\n",
    "# Get your current folder and subfolder event data\n",
    "filepath = os.getcwd() + '/event_data'\n",
    "\n",
    "# Create a for loop to create a list of files and collect each filepath\n",
    "for root, dirs, files in os.walk(filepath):\n",
    "    \n",
    "# join the file path and roots with the subdirectories using glob\n",
    "    file_path_list = glob.glob(os.path.join(root,'*'))\n",
    "    #print(file_path_list)"
   ]
  },
  {
   "cell_type": "code",
   "execution_count": 117,
   "metadata": {},
   "outputs": [],
   "source": [
    "# Processing the files to create the data file csv that will be used for Apache Casssandratables\n",
    "\n",
    "# initiating an empty list of rows that will be generated from each file\n",
    "full_data_rows_list = [] \n",
    "    \n",
    "# for every filepath in the file path list \n",
    "for f in file_path_list:\n",
    "\n",
    "# reading csv file \n",
    "    with open(f, 'r', encoding = 'utf8', newline='') as csvfile: \n",
    "        # creating a csv reader object \n",
    "        csvreader = csv.reader(csvfile) \n",
    "        next(csvreader)\n",
    "        \n",
    " # extracting each data row one by one and append it        \n",
    "        for line in csvreader:\n",
    "            #print(line)\n",
    "            full_data_rows_list.append(line) \n",
    "            \n",
    "# to get total number of rows \n",
    "#print(len(full_data_rows_list))\n",
    "# to check to see what the list of event data rows will look like\n",
    "#print(full_data_rows_list)\n",
    "\n",
    "# creating a smaller event data csv file called event_datafile_full csv that will be used to insert data into the \\\n",
    "# Apache Cassandra tables\n",
    "csv.register_dialect('myDialect', quoting=csv.QUOTE_ALL, skipinitialspace=True)\n",
    "\n",
    "with open('event_datafile_new.csv', 'w', encoding = 'utf8', newline='') as f:\n",
    "    writer = csv.writer(f, dialect='myDialect')\n",
    "    writer.writerow(['artist','firstName','gender','itemInSession','lastName','length',\\\n",
    "                'level','location','sessionId','song','userId'])\n",
    "    for row in full_data_rows_list:\n",
    "        if (row[0] == ''):\n",
    "            continue\n",
    "        writer.writerow((row[0], row[2], row[3], row[4], row[5], row[6], row[7], row[8], row[12], row[13], row[16]))\n"
   ]
  },
  {
   "cell_type": "code",
   "execution_count": 118,
   "metadata": {},
   "outputs": [
    {
     "name": "stdout",
     "output_type": "stream",
     "text": [
      "6821\n"
     ]
    }
   ],
   "source": [
    "# check the number of rows in your csv file\n",
    "with open('event_datafile_new.csv', 'r', encoding = 'utf8') as f:\n",
    "    print(sum(1 for line in f))"
   ]
  },
  {
   "cell_type": "code",
   "execution_count": 119,
   "metadata": {},
   "outputs": [],
   "source": [
    "# Creating a Cluster\n",
    "from cassandra.cluster import Cluster\n",
    "cluster = Cluster()\n",
    "\n",
    "# To establish connection and begin executing queries, need a session\n",
    "session = cluster.connect()"
   ]
  },
  {
   "cell_type": "code",
   "execution_count": 120,
   "metadata": {},
   "outputs": [],
   "source": [
    "# Create Keyspace\n",
    "try:\n",
    "    session.execute(\"\"\"\n",
    "    CREATE KEYSPACE IF NOT EXISTS projectone \n",
    "    WITH REPLICATION = \n",
    "    { 'class' : 'SimpleStrategy', 'replication_factor' : 1 }\"\"\"\n",
    ")\n",
    "\n",
    "except Exception as e:\n",
    "    print(e)"
   ]
  },
  {
   "cell_type": "code",
   "execution_count": 121,
   "metadata": {},
   "outputs": [],
   "source": [
    "# Set Keyspace\n",
    "try:\n",
    "    session.set_keyspace('projectone')\n",
    "except Exception as e:\n",
    "    print(e)"
   ]
  },
  {
   "cell_type": "code",
   "execution_count": 122,
   "metadata": {},
   "outputs": [
    {
     "data": {
      "text/plain": [
       "<cassandra.cluster.ResultSet at 0x7f4dee214f60>"
      ]
     },
     "execution_count": 122,
     "metadata": {},
     "output_type": "execute_result"
    }
   ],
   "source": [
    "# Query1. Give me the artist, song title and song's length in the music app history that was heard during sessionId = 338, and itemInSession = 4\n",
    "\n",
    "# Primary Key: (sessionId, itemInSession)\n",
    "# Partition Key (sessionId): Chosen because the query filters by sessionId. \n",
    "# This ensures all data for a session is stored together, optimizing for query efficiency.\n",
    "# Clustering Column (itemInSession): Used to further refine data within a session. \n",
    "# It allows the database to efficiently locate the specific item in a session, \n",
    "# which is essential for the query. This design effectively supports the query requirement to retrieve \n",
    "# specific song details based on sessionId and itemInSession.\n",
    "\n",
    "\n",
    "query1 = \"\"\"\n",
    "CREATE TABLE IF NOT EXISTS session_songs (\n",
    "    sessionId int,\n",
    "    itemInSession int,\n",
    "    artist text,\n",
    "    song text,\n",
    "    length float,\n",
    "    PRIMARY KEY (sessionId, itemInSession)\n",
    ");\n",
    "\"\"\"\n",
    "session.execute(query1)\n",
    "\n",
    "\n",
    "                    "
   ]
  },
  {
   "cell_type": "code",
   "execution_count": 123,
   "metadata": {
    "scrolled": false
   },
   "outputs": [],
   "source": [
    "# Insert Data\n",
    "\n",
    "with open(file, encoding = 'utf8') as f:\n",
    "    csvreader = csv.reader(f)\n",
    "    next(csvreader) # skip header\n",
    "    for line in csvreader:\n",
    "        query1 = \"INSERT INTO session_songs (sessionId, itemInSession, artist, song, length) \"\n",
    "        query1 = query1 + \"VALUES (%s, %s, %s, %s, %s)\"\n",
    "        \n",
    "        session.execute(query1, (int(line[8]), int(line[3]), line[0], line[9], float(line[5])))\n",
    "            \n"
   ]
  },
  {
   "cell_type": "code",
   "execution_count": 124,
   "metadata": {
    "scrolled": true
   },
   "outputs": [
    {
     "name": "stdout",
     "output_type": "stream",
     "text": [
      "╒════╤═══════════╤═════════════════════════════════╤══════════╕\n",
      "│    │ artist    │ song                            │   length │\n",
      "╞════╪═══════════╪═════════════════════════════════╪══════════╡\n",
      "│  0 │ Faithless │ Music Matters (Mark Knight Dub) │  495.307 │\n",
      "╘════╧═══════════╧═════════════════════════════════╧══════════╛\n"
     ]
    }
   ],
   "source": [
    "# Verify Data Insertion\n",
    "\n",
    "query1 = \"SELECT artist, song, length FROM session_songs WHERE sessionId = 338 AND itemInSession = 4\"\n",
    "try:\n",
    "    rows = session.execute(query1)\n",
    "    # Convert query results to a DataFrame\n",
    "    df = pd.DataFrame(list(rows))\n",
    "    # Display the DataFrame using tabulate\n",
    "    print(tabulate(df, headers='keys', tablefmt='fancy_grid'))\n",
    "except Exception as e:\n",
    "    print(e)"
   ]
  },
  {
   "cell_type": "code",
   "execution_count": 125,
   "metadata": {},
   "outputs": [
    {
     "data": {
      "text/plain": [
       "<cassandra.cluster.ResultSet at 0x7f4e2607c358>"
      ]
     },
     "execution_count": 125,
     "metadata": {},
     "output_type": "execute_result"
    }
   ],
   "source": [
    "# Query2. Give me only the following: name of artist, song (sorted by itemInSession) and user (first and last name) for userid = 10, sessionid = 182\n",
    "\n",
    "\n",
    "# Primary Key: Composite key ((userId, sessionId), itemInSession)\n",
    "# Composite Partition Key (userId, sessionId): \n",
    "# Enables efficient queries by grouping all data for a specific user and session together.\n",
    "# Clustering Column (itemInSession): \n",
    "# Sorts songs within each user-session pair in the order they were played.\n",
    "\n",
    "query2 = \"\"\"\n",
    "CREATE TABLE IF NOT EXISTS user_session_songs (\n",
    "    userId int,\n",
    "    sessionId int,\n",
    "    itemInSession int,\n",
    "    artist text,\n",
    "    song text,\n",
    "    firstName text,\n",
    "    lastName text,\n",
    "    PRIMARY KEY ((userId, sessionId), itemInSession)\n",
    ") WITH CLUSTERING ORDER BY (itemInSession ASC);\n",
    "\"\"\"\n",
    "session.execute(query2)\n",
    "\n",
    "                    "
   ]
  },
  {
   "cell_type": "code",
   "execution_count": 126,
   "metadata": {},
   "outputs": [],
   "source": [
    "# Insert Data\n",
    "\n",
    "file = 'event_datafile_new.csv'\n",
    "\n",
    "with open(file, encoding = 'utf8') as f:\n",
    "    csvreader = csv.reader(f)\n",
    "    next(csvreader) # skip header\n",
    "    for line in csvreader:\n",
    "        query2 = \"INSERT INTO user_session_songs (userId, sessionId, itemInSession, artist, song, firstName, lastName) \"\n",
    "        query2 = query2 + \"VALUES (%s, %s, %s, %s, %s, %s, %s)\"\n",
    "        session.execute(query2, (int(line[10]), int(line[8]), int(line[3]), line[0], line[9], line[1], line[4]))\n",
    "\n",
    "                    "
   ]
  },
  {
   "cell_type": "code",
   "execution_count": 127,
   "metadata": {
    "scrolled": true
   },
   "outputs": [
    {
     "name": "stdout",
     "output_type": "stream",
     "text": [
      "╒════╤═══════════════════╤══════════════════════════════════════════════════════╤═════════════╤════════════╕\n",
      "│    │ artist            │ song                                                 │ firstname   │ lastname   │\n",
      "╞════╪═══════════════════╪══════════════════════════════════════════════════════╪═════════════╪════════════╡\n",
      "│  0 │ Down To The Bone  │ Keep On Keepin' On                                   │ Sylvie      │ Cruz       │\n",
      "├────┼───────────────────┼──────────────────────────────────────────────────────┼─────────────┼────────────┤\n",
      "│  1 │ Three Drives      │ Greece 2000                                          │ Sylvie      │ Cruz       │\n",
      "├────┼───────────────────┼──────────────────────────────────────────────────────┼─────────────┼────────────┤\n",
      "│  2 │ Sebastien Tellier │ Kilometer                                            │ Sylvie      │ Cruz       │\n",
      "├────┼───────────────────┼──────────────────────────────────────────────────────┼─────────────┼────────────┤\n",
      "│  3 │ Lonnie Gordon     │ Catch You Baby (Steve Pitron & Max Sanna Radio Edit) │ Sylvie      │ Cruz       │\n",
      "╘════╧═══════════════════╧══════════════════════════════════════════════════════╧═════════════╧════════════╛\n"
     ]
    }
   ],
   "source": [
    "# Verify Data Insertion\n",
    "\n",
    "query2 = \"SELECT artist, song, firstname, lastname FROM user_session_songs WHERE userId = 10 AND sessionId = 182\"\n",
    "try:\n",
    "    rows = session.execute(query2)\n",
    "    # Convert query results to a DataFrame\n",
    "    df = pd.DataFrame(list(rows))\n",
    "    # Display the DataFrame using tabulate\n",
    "    print(tabulate(df, headers='keys', tablefmt='fancy_grid'))\n",
    "except Exception as e:\n",
    "    print(e)\n"
   ]
  },
  {
   "cell_type": "code",
   "execution_count": 128,
   "metadata": {},
   "outputs": [
    {
     "data": {
      "text/plain": [
       "<cassandra.cluster.ResultSet at 0x7f4e25ed7f60>"
      ]
     },
     "execution_count": 128,
     "metadata": {},
     "output_type": "execute_result"
    }
   ],
   "source": [
    "#Query3. Give me every user name (first and last) in my music app history who listened to the song 'All Hands Against His Own'\n",
    "\n",
    "\n",
    "# Primary Key: (song, userId)\n",
    "# Partition Key (song): \n",
    "# Facilitates efficient queries by song title, as the query filters on this.\n",
    "# Clustering Column (userId): \n",
    "# Ensures unique entries for users per song and provides sorted order of users for each song.\n",
    "\n",
    "query3 = \"\"\"\n",
    "CREATE TABLE IF NOT EXISTS song_listeners (\n",
    "    song text,\n",
    "    userId int,\n",
    "    firstname text,\n",
    "    lastname text,\n",
    "    PRIMARY KEY (song, userId)\n",
    ");\n",
    "\"\"\"\n",
    "session.execute(query3)\n",
    "\n"
   ]
  },
  {
   "cell_type": "code",
   "execution_count": 129,
   "metadata": {},
   "outputs": [],
   "source": [
    "# Insert Data\n",
    "\n",
    "file = 'event_datafile_new.csv'\n",
    "\n",
    "with open(file, encoding = 'utf8') as f:\n",
    "    csvreader = csv.reader(f)\n",
    "    next(csvreader) # skip header\n",
    "    for line in csvreader:\n",
    "        query3 = \"INSERT INTO song_listeners (song, userId, firstname, lastname) \"\n",
    "        query3 = query3 + \"VALUES (%s, %s, %s, %s)\"\n",
    "        session.execute(query3, (line[9], int(line[10]), line[1], line[4]))\n"
   ]
  },
  {
   "cell_type": "code",
   "execution_count": 130,
   "metadata": {},
   "outputs": [
    {
     "name": "stdout",
     "output_type": "stream",
     "text": [
      "╒════╤═════════════╤════════════╕\n",
      "│    │ firstname   │ lastname   │\n",
      "╞════╪═════════════╪════════════╡\n",
      "│  0 │ Jacqueline  │ Lynch      │\n",
      "├────┼─────────────┼────────────┤\n",
      "│  1 │ Tegan       │ Levine     │\n",
      "├────┼─────────────┼────────────┤\n",
      "│  2 │ Sara        │ Johnson    │\n",
      "╘════╧═════════════╧════════════╛\n"
     ]
    }
   ],
   "source": [
    "# Verify Data Insertion\n",
    "\n",
    "query3 = \"SELECT firstname, lastname FROM song_listeners WHERE song = 'All Hands Against His Own'\"\n",
    "try:\n",
    "    rows = session.execute(query3)\n",
    "    # Convert query results to a DataFrame\n",
    "    df = pd.DataFrame(list(rows))\n",
    "    # Display the DataFrame using tabulate\n",
    "    print(tabulate(df, headers='keys', tablefmt='fancy_grid'))\n",
    "except Exception as e:\n",
    "    print(e)\n",
    "\n"
   ]
  },
  {
   "cell_type": "code",
   "execution_count": 131,
   "metadata": {},
   "outputs": [
    {
     "name": "stdout",
     "output_type": "stream",
     "text": [
      "Table 'session_songs' dropped successfully.\n",
      "Table 'user_session_songs' dropped successfully.\n",
      "Table 'song_listeners' dropped successfully.\n"
     ]
    }
   ],
   "source": [
    "# List of tables to be dropped before closing out the sessions\n",
    "tables_to_drop = ['session_songs', 'user_session_songs', 'song_listeners']\n",
    "\n",
    "# Looping through the list and dropping each table\n",
    "for table in tables_to_drop:\n",
    "    query = f\"DROP TABLE IF EXISTS {table}\"\n",
    "    try:\n",
    "        session.execute(query)\n",
    "        print(f\"Table '{table}' dropped successfully.\")\n",
    "    except Exception as e:\n",
    "        print(f\"Error dropping table {table}: {e}\")\n",
    "\n"
   ]
  },
  {
   "cell_type": "markdown",
   "metadata": {},
   "source": [
    "### Close the session and cluster connection¶"
   ]
  },
  {
   "cell_type": "code",
   "execution_count": 132,
   "metadata": {},
   "outputs": [],
   "source": [
    "#Close the session and cluster connection\n",
    "\n",
    "session.shutdown()\n",
    "cluster.shutdown()"
   ]
  },
  {
   "cell_type": "code",
   "execution_count": null,
   "metadata": {},
   "outputs": [],
   "source": []
  }
 ],
 "metadata": {
  "kernelspec": {
   "display_name": "Python 3",
   "language": "python",
   "name": "python3"
  },
  "language_info": {
   "codemirror_mode": {
    "name": "ipython",
    "version": 3
   },
   "file_extension": ".py",
   "mimetype": "text/x-python",
   "name": "python",
   "nbconvert_exporter": "python",
   "pygments_lexer": "ipython3",
   "version": "3.6.3"
  }
 },
 "nbformat": 4,
 "nbformat_minor": 2
}
